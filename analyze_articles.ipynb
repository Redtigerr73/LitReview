{
 "cells": [
  {
   "cell_type": "code",
   "execution_count": 1,
   "metadata": {},
   "outputs": [],
   "source": [
    "import pandas as pd"
   ]
  },
  {
   "cell_type": "code",
   "execution_count": 2,
   "metadata": {},
   "outputs": [
    {
     "name": "stdout",
     "output_type": "stream",
     "text": [
      "(396, 8)\n"
     ]
    },
    {
     "data": {
      "text/html": [
       "<div>\n",
       "<style scoped>\n",
       "    .dataframe tbody tr th:only-of-type {\n",
       "        vertical-align: middle;\n",
       "    }\n",
       "\n",
       "    .dataframe tbody tr th {\n",
       "        vertical-align: top;\n",
       "    }\n",
       "\n",
       "    .dataframe thead th {\n",
       "        text-align: right;\n",
       "    }\n",
       "</style>\n",
       "<table border=\"1\" class=\"dataframe\">\n",
       "  <thead>\n",
       "    <tr style=\"text-align: right;\">\n",
       "      <th></th>\n",
       "      <th>title</th>\n",
       "      <th>url</th>\n",
       "      <th>year</th>\n",
       "      <th>cited_by</th>\n",
       "      <th>publisher</th>\n",
       "      <th>first_author</th>\n",
       "      <th>authors</th>\n",
       "      <th>query</th>\n",
       "    </tr>\n",
       "  </thead>\n",
       "  <tbody>\n",
       "    <tr>\n",
       "      <th>0</th>\n",
       "      <td>Segmentation of multiple sclerosis lesions in ...</td>\n",
       "      <td>https://www.sciencedirect.com/science/article/...</td>\n",
       "      <td>2012</td>\n",
       "      <td>293</td>\n",
       "      <td>Elsevier</td>\n",
       "      <td>X Lladó</td>\n",
       "      <td>X Lladó, A Oliver, M Cabezas, J Freixenet…</td>\n",
       "      <td>multiple sclerosis segmentation</td>\n",
       "    </tr>\n",
       "    <tr>\n",
       "      <th>1</th>\n",
       "      <td>Segmentation of multiple sclerosis lesions in ...</td>\n",
       "      <td>https://link.springer.com/article/10.1007/s002...</td>\n",
       "      <td>2012</td>\n",
       "      <td>179</td>\n",
       "      <td>Springer</td>\n",
       "      <td>D Mortazavi</td>\n",
       "      <td>D Mortazavi, AZ Kouzani, H Soltanian ,Zadeh</td>\n",
       "      <td>multiple sclerosis segmentation</td>\n",
       "    </tr>\n",
       "    <tr>\n",
       "      <th>2</th>\n",
       "      <td>Automated segmentation of multiple sclerosis l...</td>\n",
       "      <td>https://ieeexplore.ieee.org/abstract/document/...</td>\n",
       "      <td>2001</td>\n",
       "      <td>646</td>\n",
       "      <td>ieeexplore.ieee.org</td>\n",
       "      <td>K Van Leemput</td>\n",
       "      <td>K Van Leemput, F Maes…</td>\n",
       "      <td>multiple sclerosis segmentation</td>\n",
       "    </tr>\n",
       "  </tbody>\n",
       "</table>\n",
       "</div>"
      ],
      "text/plain": [
       "                                               title  \\\n",
       "0  Segmentation of multiple sclerosis lesions in ...   \n",
       "1  Segmentation of multiple sclerosis lesions in ...   \n",
       "2  Automated segmentation of multiple sclerosis l...   \n",
       "\n",
       "                                                 url  year  cited_by  \\\n",
       "0  https://www.sciencedirect.com/science/article/...  2012       293   \n",
       "1  https://link.springer.com/article/10.1007/s002...  2012       179   \n",
       "2  https://ieeexplore.ieee.org/abstract/document/...  2001       646   \n",
       "\n",
       "             publisher   first_author  \\\n",
       "0             Elsevier        X Lladó   \n",
       "1             Springer    D Mortazavi   \n",
       "2  ieeexplore.ieee.org  K Van Leemput   \n",
       "\n",
       "                                       authors  \\\n",
       "0   X Lladó, A Oliver, M Cabezas, J Freixenet…   \n",
       "1  D Mortazavi, AZ Kouzani, H Soltanian ,Zadeh   \n",
       "2                       K Van Leemput, F Maes…   \n",
       "\n",
       "                             query  \n",
       "0  multiple sclerosis segmentation  \n",
       "1  multiple sclerosis segmentation  \n",
       "2  multiple sclerosis segmentation  "
      ]
     },
     "execution_count": 2,
     "metadata": {},
     "output_type": "execute_result"
    }
   ],
   "source": [
    "df = pd.read_csv('data/csv/gs_ms_seg.csv')\n",
    "print(df.shape)\n",
    "df.head(3)"
   ]
  },
  {
   "cell_type": "code",
   "execution_count": 11,
   "metadata": {},
   "outputs": [
    {
     "data": {
      "text/plain": [
       "(92, 8)"
      ]
     },
     "execution_count": 11,
     "metadata": {},
     "output_type": "execute_result"
    }
   ],
   "source": [
    "# Filter articles that are less than 5 years old with more than 50 cited\n",
    "df = df[(df[\"year\"] >= 2018) & (df[\"cited_by\"] > 50)]\n",
    "df.shape"
   ]
  },
  {
   "cell_type": "code",
   "execution_count": 21,
   "metadata": {},
   "outputs": [
    {
     "data": {
      "text/plain": [
       "publisher\n",
       "Elsevier                30\n",
       "Springer                19\n",
       "ieeexplore.ieee.org     12\n",
       "Wiley Online Library     4\n",
       "arxiv.org                4\n",
       "Name: count, dtype: int64"
      ]
     },
     "execution_count": 21,
     "metadata": {},
     "output_type": "execute_result"
    }
   ],
   "source": [
    "# 5 most popular publishers\n",
    "df['publisher'].value_counts()[:5]"
   ]
  },
  {
   "cell_type": "code",
   "execution_count": 14,
   "metadata": {},
   "outputs": [
    {
     "data": {
      "text/plain": [
       "<Axes: xlabel='year'>"
      ]
     },
     "execution_count": 14,
     "metadata": {},
     "output_type": "execute_result"
    },
    {
     "data": {
      "image/png": "[encoded data removed]",
      "text/plain": [
       "<Figure size 640x480 with 1 Axes>"
      ]
     },
     "metadata": {},
     "output_type": "display_data"
    }
   ],
   "source": [
    "df['year'].value_counts().sort_index().plot(kind='bar')"
   ]
  },
  {
   "cell_type": "code",
   "execution_count": 15,
   "metadata": {},
   "outputs": [
    {
     "data": {
      "text/plain": [
       "<Axes: xlabel='year', ylabel='cited_by'>"
      ]
     },
     "execution_count": 15,
     "metadata": {},
     "output_type": "execute_result"
    },
    {
     "data": {
      "image/png": "[encoded data removed]",
      "text/plain": [
       "<Figure size 640x480 with 1 Axes>"
      ]
     },
     "metadata": {},
     "output_type": "display_data"
    }
   ],
   "source": [
    "df.plot.scatter(x='year', y='cited_by')"
   ]
  },
  {
   "cell_type": "code",
   "execution_count": 23,
   "metadata": {},
   "outputs": [
    {
     "data": {
      "text/plain": [
       "publisher\n",
       "Elsevier                105.5\n",
       "Springer                137.0\n",
       "Wiley Online Library    163.0\n",
       "academic.oup.com         83.0\n",
       "arxiv.org               308.5\n",
       "Name: cited_by, dtype: float64"
      ]
     },
     "execution_count": 23,
     "metadata": {},
     "output_type": "execute_result"
    }
   ],
   "source": [
    "top_publishers = df.groupby('publisher')['cited_by'].median()[:5]\n",
    "top_publishers"
   ]
  }
 ],
 "metadata": {
  "kernelspec": {
   "display_name": "LitReview-BPA3kgP-",
   "language": "python",
   "name": "python3"
  },
  "language_info": {
   "codemirror_mode": {
    "name": "ipython",
    "version": 3
   },
   "file_extension": ".py",
   "mimetype": "text/x-python",
   "name": "python",
   "nbconvert_exporter": "python",
   "pygments_lexer": "ipython3",
   "version": "3.11.5"
  }
 },
 "nbformat": 4,
 "nbformat_minor": 2
}
